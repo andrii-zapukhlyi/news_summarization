{
 "cells": [
  {
   "cell_type": "markdown",
   "metadata": {},
   "source": [
    "# News Summarization with an Attention Mechanism and Transformer Model\n",
    "Author: Andrii Zapukhlyi"
   ]
  },
  {
   "cell_type": "markdown",
   "metadata": {},
   "source": [
    "## Objective"
   ]
  },
  {
   "cell_type": "markdown",
   "metadata": {},
   "source": [
    "## Solution"
   ]
  },
  {
   "cell_type": "markdown",
   "metadata": {},
   "source": [
    "## Import libraries"
   ]
  },
  {
   "cell_type": "code",
   "execution_count": 2,
   "metadata": {},
   "outputs": [],
   "source": [
    "import numpy as np\n",
    "import pandas as pd\n",
    "import matplotlib.pyplot as plt\n",
    "import seaborn as sns\n",
    "import time\n",
    "import re\n",
    "\n",
    "import torch\n",
    "import torch.nn as nn\n",
    "import torch.optim as optim\n",
    "from torch.utils.data import DataLoader, Dataset\n",
    "from torch.nn.utils.rnn import pad_sequence\n",
    "\n",
    "import spacy\n",
    "from wordcloud import WordCloud\n",
    "from nltk.corpus import stopwords\n",
    "from nltk.tokenize import word_tokenize\n",
    "from collections import Counter\n",
    "import nltk\n",
    "import evaluate\n",
    "\n",
    "import datasets\n",
    "from transformers import TrainingArguments, Trainer, AutoTokenizer, AutoModelForSeq2SeqLM"
   ]
  },
  {
   "cell_type": "markdown",
   "metadata": {},
   "source": [
    "## Dataset overview"
   ]
  },
  {
   "cell_type": "code",
   "execution_count": 60,
   "metadata": {},
   "outputs": [],
   "source": [
    "dataset = datasets.load_dataset(\"cnn_dailymail\", \"3.0.0\")"
   ]
  },
  {
   "cell_type": "code",
   "execution_count": 61,
   "metadata": {},
   "outputs": [],
   "source": [
    "train = pd.DataFrame(dataset[\"train\"])\n",
    "test = pd.DataFrame(dataset[\"test\"])\n",
    "val = pd.DataFrame(dataset[\"validation\"])"
   ]
  },
  {
   "cell_type": "code",
   "execution_count": 62,
   "metadata": {},
   "outputs": [
    {
     "data": {
      "text/html": [
       "<div>\n",
       "<style scoped>\n",
       "    .dataframe tbody tr th:only-of-type {\n",
       "        vertical-align: middle;\n",
       "    }\n",
       "\n",
       "    .dataframe tbody tr th {\n",
       "        vertical-align: top;\n",
       "    }\n",
       "\n",
       "    .dataframe thead th {\n",
       "        text-align: right;\n",
       "    }\n",
       "</style>\n",
       "<table border=\"1\" class=\"dataframe\">\n",
       "  <thead>\n",
       "    <tr style=\"text-align: right;\">\n",
       "      <th></th>\n",
       "      <th>article</th>\n",
       "      <th>highlights</th>\n",
       "      <th>id</th>\n",
       "    </tr>\n",
       "  </thead>\n",
       "  <tbody>\n",
       "    <tr>\n",
       "      <th>0</th>\n",
       "      <td>LONDON, England (Reuters) -- Harry Potter star...</td>\n",
       "      <td>Harry Potter star Daniel Radcliffe gets £20M f...</td>\n",
       "      <td>42c027e4ff9730fbb3de84c1af0d2c506e41c3e4</td>\n",
       "    </tr>\n",
       "    <tr>\n",
       "      <th>1</th>\n",
       "      <td>Editor's note: In our Behind the Scenes series...</td>\n",
       "      <td>Mentally ill inmates in Miami are housed on th...</td>\n",
       "      <td>ee8871b15c50d0db17b0179a6d2beab35065f1e9</td>\n",
       "    </tr>\n",
       "    <tr>\n",
       "      <th>2</th>\n",
       "      <td>MINNEAPOLIS, Minnesota (CNN) -- Drivers who we...</td>\n",
       "      <td>NEW: \"I thought I was going to die,\" driver sa...</td>\n",
       "      <td>06352019a19ae31e527f37f7571c6dd7f0c5da37</td>\n",
       "    </tr>\n",
       "    <tr>\n",
       "      <th>3</th>\n",
       "      <td>WASHINGTON (CNN) -- Doctors removed five small...</td>\n",
       "      <td>Five small polyps found during procedure; \"non...</td>\n",
       "      <td>24521a2abb2e1f5e34e6824e0f9e56904a2b0e88</td>\n",
       "    </tr>\n",
       "    <tr>\n",
       "      <th>4</th>\n",
       "      <td>(CNN)  -- The National Football League has ind...</td>\n",
       "      <td>NEW: NFL chief, Atlanta Falcons owner critical...</td>\n",
       "      <td>7fe70cc8b12fab2d0a258fababf7d9c6b5e1262a</td>\n",
       "    </tr>\n",
       "  </tbody>\n",
       "</table>\n",
       "</div>"
      ],
      "text/plain": [
       "                                             article  \\\n",
       "0  LONDON, England (Reuters) -- Harry Potter star...   \n",
       "1  Editor's note: In our Behind the Scenes series...   \n",
       "2  MINNEAPOLIS, Minnesota (CNN) -- Drivers who we...   \n",
       "3  WASHINGTON (CNN) -- Doctors removed five small...   \n",
       "4  (CNN)  -- The National Football League has ind...   \n",
       "\n",
       "                                          highlights  \\\n",
       "0  Harry Potter star Daniel Radcliffe gets £20M f...   \n",
       "1  Mentally ill inmates in Miami are housed on th...   \n",
       "2  NEW: \"I thought I was going to die,\" driver sa...   \n",
       "3  Five small polyps found during procedure; \"non...   \n",
       "4  NEW: NFL chief, Atlanta Falcons owner critical...   \n",
       "\n",
       "                                         id  \n",
       "0  42c027e4ff9730fbb3de84c1af0d2c506e41c3e4  \n",
       "1  ee8871b15c50d0db17b0179a6d2beab35065f1e9  \n",
       "2  06352019a19ae31e527f37f7571c6dd7f0c5da37  \n",
       "3  24521a2abb2e1f5e34e6824e0f9e56904a2b0e88  \n",
       "4  7fe70cc8b12fab2d0a258fababf7d9c6b5e1262a  "
      ]
     },
     "execution_count": 62,
     "metadata": {},
     "output_type": "execute_result"
    }
   ],
   "source": [
    "train.head()"
   ]
  },
  {
   "cell_type": "code",
   "execution_count": 63,
   "metadata": {},
   "outputs": [
    {
     "name": "stdout",
     "output_type": "stream",
     "text": [
      "287113 13368 11490\n"
     ]
    }
   ],
   "source": [
    "print(len(train), len(val), len(test))"
   ]
  },
  {
   "cell_type": "code",
   "execution_count": 64,
   "metadata": {},
   "outputs": [],
   "source": [
    "train = train.head(50000)"
   ]
  },
  {
   "cell_type": "code",
   "execution_count": 65,
   "metadata": {},
   "outputs": [
    {
     "data": {
      "text/html": [
       "<div>\n",
       "<style scoped>\n",
       "    .dataframe tbody tr th:only-of-type {\n",
       "        vertical-align: middle;\n",
       "    }\n",
       "\n",
       "    .dataframe tbody tr th {\n",
       "        vertical-align: top;\n",
       "    }\n",
       "\n",
       "    .dataframe thead th {\n",
       "        text-align: right;\n",
       "    }\n",
       "</style>\n",
       "<table border=\"1\" class=\"dataframe\">\n",
       "  <thead>\n",
       "    <tr style=\"text-align: right;\">\n",
       "      <th></th>\n",
       "      <th>article</th>\n",
       "      <th>highlights</th>\n",
       "      <th>id</th>\n",
       "    </tr>\n",
       "  </thead>\n",
       "  <tbody>\n",
       "    <tr>\n",
       "      <th>12175</th>\n",
       "      <td>(CNN) -- Two miners who died this week in a Ne...</td>\n",
       "      <td>NEW: Two dead miners survived by spouses, chil...</td>\n",
       "      <td>cbce8bdb0f6be79786de1b138d4ecc53e0d56db7</td>\n",
       "    </tr>\n",
       "    <tr>\n",
       "      <th>35287</th>\n",
       "      <td>Washington (CNN) -- A Salvadoran national want...</td>\n",
       "      <td>Suspect in the slaying of a Colorado man added...</td>\n",
       "      <td>e5757ec07d9cf031f14e8e291a6de022d7088a2c</td>\n",
       "    </tr>\n",
       "    <tr>\n",
       "      <th>3692</th>\n",
       "      <td>(CNN)  -- Is the movie cop thriller heading fo...</td>\n",
       "      <td>\"Pride and Glory\" wants to be cop thriller thr...</td>\n",
       "      <td>b648d49d4e487f0dc4b8fb0377ca61ff6b43b6da</td>\n",
       "    </tr>\n",
       "    <tr>\n",
       "      <th>13107</th>\n",
       "      <td>(CNN) -- I lived through 9/11. Now I live two ...</td>\n",
       "      <td>John Avlon went to protests over Islamic cente...</td>\n",
       "      <td>1b91e40f279fa7e5a74ee456c1005e9b2d4c4cf4</td>\n",
       "    </tr>\n",
       "    <tr>\n",
       "      <th>7073</th>\n",
       "      <td>Perugia, Italy (CNN) -- Family members of Mere...</td>\n",
       "      <td>NEW: Sentence makes no sense, co-defendant's l...</td>\n",
       "      <td>086977dad90c35858d511066f62bcab319ec9d15</td>\n",
       "    </tr>\n",
       "    <tr>\n",
       "      <th>38915</th>\n",
       "      <td>(CNN) -- As his family, friends and co-stars m...</td>\n",
       "      <td>\"Glee\" producers must now decide how to handle...</td>\n",
       "      <td>d2e1b9853385c1fe1408209f5adfb00533d1a930</td>\n",
       "    </tr>\n",
       "    <tr>\n",
       "      <th>33095</th>\n",
       "      <td>(CNN) -- For years, Republican presidents and ...</td>\n",
       "      <td>Carrie Rickey: Clint Eastwood lines have long ...</td>\n",
       "      <td>074861ff223d281acceeb323a8695cebd0fda662</td>\n",
       "    </tr>\n",
       "    <tr>\n",
       "      <th>19655</th>\n",
       "      <td>New York (CNN) -- Just as it has happened for ...</td>\n",
       "      <td>Since 1907, a ball-drop in Times Square has ma...</td>\n",
       "      <td>4fb544540980760c89f190b5bb503b7b3a3dbbdc</td>\n",
       "    </tr>\n",
       "    <tr>\n",
       "      <th>25746</th>\n",
       "      <td>(WIRED) -- Gerald \"Jerry\" Lawson, creator of t...</td>\n",
       "      <td>Jerry Lawson passed away after suffering a hea...</td>\n",
       "      <td>a37009289e0fc1effc19a67eeae03e01e65b8c77</td>\n",
       "    </tr>\n",
       "    <tr>\n",
       "      <th>5071</th>\n",
       "      <td>(CNN) -- Police in Allendale, South Carolina, ...</td>\n",
       "      <td>At 6'5'', former employee says James Hines was...</td>\n",
       "      <td>ecf828688125c468450a0fcd74c45f2793aed007</td>\n",
       "    </tr>\n",
       "  </tbody>\n",
       "</table>\n",
       "</div>"
      ],
      "text/plain": [
       "                                                 article  \\\n",
       "12175  (CNN) -- Two miners who died this week in a Ne...   \n",
       "35287  Washington (CNN) -- A Salvadoran national want...   \n",
       "3692   (CNN)  -- Is the movie cop thriller heading fo...   \n",
       "13107  (CNN) -- I lived through 9/11. Now I live two ...   \n",
       "7073   Perugia, Italy (CNN) -- Family members of Mere...   \n",
       "38915  (CNN) -- As his family, friends and co-stars m...   \n",
       "33095  (CNN) -- For years, Republican presidents and ...   \n",
       "19655  New York (CNN) -- Just as it has happened for ...   \n",
       "25746  (WIRED) -- Gerald \"Jerry\" Lawson, creator of t...   \n",
       "5071   (CNN) -- Police in Allendale, South Carolina, ...   \n",
       "\n",
       "                                              highlights  \\\n",
       "12175  NEW: Two dead miners survived by spouses, chil...   \n",
       "35287  Suspect in the slaying of a Colorado man added...   \n",
       "3692   \"Pride and Glory\" wants to be cop thriller thr...   \n",
       "13107  John Avlon went to protests over Islamic cente...   \n",
       "7073   NEW: Sentence makes no sense, co-defendant's l...   \n",
       "38915  \"Glee\" producers must now decide how to handle...   \n",
       "33095  Carrie Rickey: Clint Eastwood lines have long ...   \n",
       "19655  Since 1907, a ball-drop in Times Square has ma...   \n",
       "25746  Jerry Lawson passed away after suffering a hea...   \n",
       "5071   At 6'5'', former employee says James Hines was...   \n",
       "\n",
       "                                             id  \n",
       "12175  cbce8bdb0f6be79786de1b138d4ecc53e0d56db7  \n",
       "35287  e5757ec07d9cf031f14e8e291a6de022d7088a2c  \n",
       "3692   b648d49d4e487f0dc4b8fb0377ca61ff6b43b6da  \n",
       "13107  1b91e40f279fa7e5a74ee456c1005e9b2d4c4cf4  \n",
       "7073   086977dad90c35858d511066f62bcab319ec9d15  \n",
       "38915  d2e1b9853385c1fe1408209f5adfb00533d1a930  \n",
       "33095  074861ff223d281acceeb323a8695cebd0fda662  \n",
       "19655  4fb544540980760c89f190b5bb503b7b3a3dbbdc  \n",
       "25746  a37009289e0fc1effc19a67eeae03e01e65b8c77  \n",
       "5071   ecf828688125c468450a0fcd74c45f2793aed007  "
      ]
     },
     "execution_count": 65,
     "metadata": {},
     "output_type": "execute_result"
    }
   ],
   "source": [
    "train.sample(10)"
   ]
  },
  {
   "cell_type": "code",
   "execution_count": 70,
   "metadata": {},
   "outputs": [
    {
     "data": {
      "text/html": [
       "<div>\n",
       "<style scoped>\n",
       "    .dataframe tbody tr th:only-of-type {\n",
       "        vertical-align: middle;\n",
       "    }\n",
       "\n",
       "    .dataframe tbody tr th {\n",
       "        vertical-align: top;\n",
       "    }\n",
       "\n",
       "    .dataframe thead th {\n",
       "        text-align: right;\n",
       "    }\n",
       "</style>\n",
       "<table border=\"1\" class=\"dataframe\">\n",
       "  <thead>\n",
       "    <tr style=\"text-align: right;\">\n",
       "      <th></th>\n",
       "      <th>article</th>\n",
       "      <th>highlights</th>\n",
       "      <th>id</th>\n",
       "    </tr>\n",
       "  </thead>\n",
       "  <tbody>\n",
       "    <tr>\n",
       "      <th>count</th>\n",
       "      <td>49764</td>\n",
       "      <td>49764</td>\n",
       "      <td>49764</td>\n",
       "    </tr>\n",
       "    <tr>\n",
       "      <th>unique</th>\n",
       "      <td>47647</td>\n",
       "      <td>47509</td>\n",
       "      <td>49764</td>\n",
       "    </tr>\n",
       "    <tr>\n",
       "      <th>top</th>\n",
       "      <td>(CNN) -- Dubai could lose its place on the Wom...</td>\n",
       "      <td>Rick Steves writes European travel guidebooks ...</td>\n",
       "      <td>42c027e4ff9730fbb3de84c1af0d2c506e41c3e4</td>\n",
       "    </tr>\n",
       "    <tr>\n",
       "      <th>freq</th>\n",
       "      <td>3</td>\n",
       "      <td>8</td>\n",
       "      <td>1</td>\n",
       "    </tr>\n",
       "  </tbody>\n",
       "</table>\n",
       "</div>"
      ],
      "text/plain": [
       "                                                  article  \\\n",
       "count                                               49764   \n",
       "unique                                              47647   \n",
       "top     (CNN) -- Dubai could lose its place on the Wom...   \n",
       "freq                                                    3   \n",
       "\n",
       "                                               highlights  \\\n",
       "count                                               49764   \n",
       "unique                                              47509   \n",
       "top     Rick Steves writes European travel guidebooks ...   \n",
       "freq                                                    8   \n",
       "\n",
       "                                              id  \n",
       "count                                      49764  \n",
       "unique                                     49764  \n",
       "top     42c027e4ff9730fbb3de84c1af0d2c506e41c3e4  \n",
       "freq                                           1  "
      ]
     },
     "execution_count": 70,
     "metadata": {},
     "output_type": "execute_result"
    }
   ],
   "source": [
    "train.describe()"
   ]
  },
  {
   "cell_type": "code",
   "execution_count": 69,
   "metadata": {},
   "outputs": [],
   "source": [
    "def delete_wrong_scraped(set):\n",
    "    wrong_scraped = [\"This page includes the show Transcript\", \"The daily transcript is a written version\", \"Use the weekly Newsquiz to test your\", \"Use these questions to help students understan\"]\n",
    "\n",
    "    for elem in wrong_scraped:\n",
    "        set = set[~set['highlights'].str.contains(elem, na=False, case=False)]\n",
    "\n",
    "    return set\n",
    "\n",
    "train = delete_wrong_scraped(train)\n",
    "val = delete_wrong_scraped(val)\n",
    "test = delete_wrong_scraped(test)"
   ]
  },
  {
   "cell_type": "code",
   "execution_count": 13,
   "metadata": {},
   "outputs": [
    {
     "name": "stdout",
     "output_type": "stream",
     "text": [
      "                                                  article  \\\n",
      "count                                               49764   \n",
      "unique                                              47647   \n",
      "top     (CNN) -- Dubai could lose its place on the Wom...   \n",
      "freq                                                    3   \n",
      "\n",
      "                                               highlights  \\\n",
      "count                                               49764   \n",
      "unique                                              47509   \n",
      "top     Rick Steves writes European travel guidebooks ...   \n",
      "freq                                                    8   \n",
      "\n",
      "                                              id  \n",
      "count                                      49764  \n",
      "unique                                     49764  \n",
      "top     42c027e4ff9730fbb3de84c1af0d2c506e41c3e4  \n",
      "freq                                           1  \n",
      "                                                  article  \\\n",
      "count                                               13351   \n",
      "unique                                              13351   \n",
      "top     (CNN)Share, and your gift will be multiplied. ...   \n",
      "freq                                                    1   \n",
      "\n",
      "                                               highlights  \\\n",
      "count                                               13351   \n",
      "unique                                              13298   \n",
      "top     Patrick caught cuddling bikini girl pal in Mex...   \n",
      "freq                                                    2   \n",
      "\n",
      "                                              id  \n",
      "count                                      13351  \n",
      "unique                                     13351  \n",
      "top     a4942dd663020ca54575471657a0af38d82897d6  \n",
      "freq                                           1  \n",
      "                                                  article  \\\n",
      "count                                               11486   \n",
      "unique                                              11484   \n",
      "top     (CNN)Tornadoes, fierce winds and severe thunde...   \n",
      "freq                                                    2   \n",
      "\n",
      "                                               highlights  \\\n",
      "count                                               11486   \n",
      "unique                                              11447   \n",
      "top     Ukip leader Nigel Farage risks alienating thos...   \n",
      "freq                                                    3   \n",
      "\n",
      "                                              id  \n",
      "count                                      11486  \n",
      "unique                                     11486  \n",
      "top     f001ec5c4704938247d27a44948eebb37ae98d01  \n",
      "freq                                           1  \n"
     ]
    }
   ],
   "source": [
    "print(train.describe())\n",
    "print(val.describe())\n",
    "print(test.describe())"
   ]
  },
  {
   "cell_type": "code",
   "execution_count": 14,
   "metadata": {},
   "outputs": [
    {
     "name": "stdout",
     "output_type": "stream",
     "text": [
      "Number of NA values in sets:\n",
      "0\n",
      "0\n",
      "0\n",
      "Number of duplicates in sets:\n",
      "0\n",
      "0\n",
      "0\n"
     ]
    }
   ],
   "source": [
    "print(\"Number of NA values in sets:\")\n",
    "print(train.isna().sum().sum())\n",
    "print(val.isna().sum().sum())\n",
    "print(test.isna().sum().sum())\n",
    "\n",
    "print(\"Number of duplicates in sets:\")\n",
    "print(train.duplicated().sum())\n",
    "print(val.duplicated().sum())\n",
    "print(test.duplicated().sum())"
   ]
  },
  {
   "cell_type": "code",
   "execution_count": 15,
   "metadata": {},
   "outputs": [
    {
     "data": {
      "image/png": "[encoded data removed]",
      "text/plain": [
       "<Figure size 1500x500 with 2 Axes>"
      ]
     },
     "metadata": {},
     "output_type": "display_data"
    }
   ],
   "source": [
    "fig, ax = plt.subplots(1, 2, figsize=(15, 5))\n",
    "\n",
    "train[\"article\"].apply(lambda x: len(x.split())).plot(kind='hist', bins = 100, ax = ax[0])\n",
    "ax[0].set_title('Articles length')\n",
    "\n",
    "train[\"highlights\"].apply(lambda x: len(x.split())).plot(kind='hist', bins = 100)\n",
    "ax[1].set_title('Highlights length')\n",
    "\n",
    "plt.show()"
   ]
  },
  {
   "cell_type": "code",
   "execution_count": null,
   "metadata": {},
   "outputs": [
    {
     "data": {
      "text/plain": [
       "'from wordcloud import WordCloud\\n\\ntext_data = \" \".join(train[\\'highlights\\'])\\n\\nwordcloud = WordCloud(width=800, height=400, background_color=\\'white\\', colormap=\\'viridis\\', max_words=1000).generate(text_data)\\n\\nplt.figure(figsize=(10, 5))\\nplt.imshow(wordcloud)\\nplt.axis(\"off\")\\nplt.show()'"
      ]
     },
     "execution_count": 16,
     "metadata": {},
     "output_type": "execute_result"
    }
   ],
   "source": [
    "text_data = \" \".join(train['highlights'])\n",
    "\n",
    "wordcloud = WordCloud(width=800, height=400, background_color='white', colormap='viridis', max_words=1000).generate(text_data)\n",
    "\n",
    "plt.figure(figsize=(10, 5))\n",
    "plt.imshow(wordcloud)\n",
    "plt.axis(\"off\")\n",
    "plt.show()"
   ]
  },
  {
   "cell_type": "code",
   "execution_count": null,
   "metadata": {},
   "outputs": [
    {
     "data": {
      "text/plain": [
       "'from nltk.corpus import stopwords\\nfrom nltk.tokenize import word_tokenize\\nimport nltk\\nfrom collections import Counter\\nimport nltk\\n\\nstop_words = set(stopwords.words(\"english\"))\\n\\ndef get_bigrams(text):\\n    words = word_tokenize(text.lower())\\n    words = [word for word in words if word.isalnum() and word not in stop_words]\\n    bigrams = list(nltk.bigrams(words))\\n    return [\" \".join(bigram) for bigram in bigrams]\\n\\nbigrams = []\\nfor t in train[\"highlights\"]:\\n    bigrams.extend(get_bigrams(t))\\n\\nbigram_counts = Counter(bigrams).most_common(10)\\nbigram_df = pd.DataFrame(bigram_counts, columns=[\"Bigram\", \"Count\"])\\n\\nplt.figure(figsize=(10, 5))\\nsns.barplot(x=\"Count\", y=\"Bigram\", data=bigram_df, hue = \"Bigram\", palette=\"Blues_r\")\\nplt.title(\"Top 10 Most Common Bigrams (Without Stopwords)\")\\nplt.show()'"
      ]
     },
     "execution_count": 17,
     "metadata": {},
     "output_type": "execute_result"
    }
   ],
   "source": [
    "stop_words = set(stopwords.words(\"english\"))\n",
    "\n",
    "def get_bigrams(text):\n",
    "    words = word_tokenize(text.lower())\n",
    "    words = [word for word in words if word.isalnum() and word not in stop_words]\n",
    "    bigrams = list(nltk.bigrams(words))\n",
    "    return [\" \".join(bigram) for bigram in bigrams]\n",
    "\n",
    "bigrams = []\n",
    "for t in train[\"highlights\"]:\n",
    "    bigrams.extend(get_bigrams(t))\n",
    "\n",
    "bigram_counts = Counter(bigrams).most_common(10)\n",
    "bigram_df = pd.DataFrame(bigram_counts, columns=[\"Bigram\", \"Count\"])\n",
    "\n",
    "plt.figure(figsize=(10, 5))\n",
    "sns.barplot(x=\"Count\", y=\"Bigram\", data=bigram_df, hue = \"Bigram\", palette=\"Blues_r\")\n",
    "plt.title(\"Top 10 Most Common Bigrams (Without Stopwords)\")\n",
    "plt.show()"
   ]
  },
  {
   "cell_type": "markdown",
   "metadata": {},
   "source": [
    "## Data preprocessing"
   ]
  },
  {
   "cell_type": "code",
   "execution_count": 6,
   "metadata": {},
   "outputs": [
    {
     "ename": "NameError",
     "evalue": "name 'train' is not defined",
     "output_type": "error",
     "traceback": [
      "\u001b[1;31m---------------------------------------------------------------------------\u001b[0m",
      "\u001b[1;31mNameError\u001b[0m                                 Traceback (most recent call last)",
      "Cell \u001b[1;32mIn[6], line 17\u001b[0m\n\u001b[0;32m     14\u001b[0m     text \u001b[38;5;241m=\u001b[39m metadata_pattern\u001b[38;5;241m.\u001b[39msub(\u001b[38;5;124m'\u001b[39m\u001b[38;5;124m'\u001b[39m, text)\n\u001b[0;32m     15\u001b[0m     \u001b[38;5;28;01mreturn\u001b[39;00m \u001b[38;5;124m'\u001b[39m\u001b[38;5;124m \u001b[39m\u001b[38;5;124m'\u001b[39m\u001b[38;5;241m.\u001b[39mjoin(text\u001b[38;5;241m.\u001b[39msplit())\n\u001b[1;32m---> 17\u001b[0m train[\u001b[38;5;124m\"\u001b[39m\u001b[38;5;124marticle\u001b[39m\u001b[38;5;124m\"\u001b[39m] \u001b[38;5;241m=\u001b[39m \u001b[43mtrain\u001b[49m[\u001b[38;5;124m\"\u001b[39m\u001b[38;5;124marticle\u001b[39m\u001b[38;5;124m\"\u001b[39m]\u001b[38;5;241m.\u001b[39mapply(delete_metadata)\n\u001b[0;32m     18\u001b[0m val[\u001b[38;5;124m\"\u001b[39m\u001b[38;5;124marticle\u001b[39m\u001b[38;5;124m\"\u001b[39m] \u001b[38;5;241m=\u001b[39m val[\u001b[38;5;124m\"\u001b[39m\u001b[38;5;124marticle\u001b[39m\u001b[38;5;124m\"\u001b[39m]\u001b[38;5;241m.\u001b[39mapply(delete_metadata)\n",
      "\u001b[1;31mNameError\u001b[0m: name 'train' is not defined"
     ]
    }
   ],
   "source": [
    "metadata_pattern = re.compile(\n",
    "    r\"^By\\s+.*?\\.\\s+\"  # Removes \"By . Author Name .\"\n",
    "    r\"|PUBLISHED:\\s*\\.*\\s*\\d{1,2}:\\d{2}\\s*[A-Z]{2,3},\\s*\\d{1,2}\\s*\\w+\\s*\\d{4}\\s*\\.*\\s*\\|?\\s*UPDATED:\\s*\\.*\\s*\\d{1,2}:\\d{2}\\s*[A-Z]{2,3},\\s*\\d{1,2}\\s*\\w+\\s*\\d{4}\\s*\\.*\"  # Removes PUBLISHED / UPDATED timestamps\n",
    "    r\"|Last updated at \\d{1,2}:\\d{2} [APM]{2} on \\d{1,2}(st|nd|rd|th)? \\w+ \\d{4} \\.\"  # Removes \"Last updated at ...\"\n",
    "    r\"|^.*?--\\s*\"  # Removes source prefixes like \"(CNN) --\", \"(BBC) --\"\n",
    "    r\"|^Follow\\s+@@\\S+\\s+\\.\\s+\"  # Removes \"Follow @username . \"\n",
    "    r\"|UPDATED: .*? \\. \"  # Removes text after \"UPDATED: ...\"\n",
    ")\n",
    "\n",
    "def delete_metadata(text):\n",
    "    if not isinstance(text, str):\n",
    "        return text\n",
    "    \n",
    "    text = metadata_pattern.sub('', text)\n",
    "    return ' '.join(text.split())\n",
    "\n",
    "train[\"article\"] = train[\"article\"].apply(delete_metadata)\n",
    "val[\"article\"] = val[\"article\"].apply(delete_metadata)"
   ]
  },
  {
   "cell_type": "code",
   "execution_count": 19,
   "metadata": {},
   "outputs": [],
   "source": [
    "def clean_text(text_series):\n",
    "    text_series = text_series.str.lower()\n",
    "\n",
    "    text_series = text_series.str.replace(r\"http\\S+|www\\S+|https\\S+\", '', regex=True)\n",
    "    text_series = text_series.str.replace(r\"@\\w+|#\\w+\", '', regex=True)\n",
    "    text_series = text_series.str.replace(r\"([.,!?])\", r\" \\1 \", regex=True)\n",
    "    text_series = text_series.str.replace(r'\\n+', ' ', regex=True)\n",
    "    text_series = text_series.str.strip()\n",
    "    return text_series\n",
    "\n",
    "train[\"article\"] = clean_text(train[\"article\"])\n",
    "train[\"highlights\"] = clean_text(train[\"highlights\"])\n",
    "\n",
    "val[\"article\"] = clean_text(val[\"article\"])\n",
    "val[\"highlights\"] = clean_text(val[\"highlights\"])"
   ]
  },
  {
   "cell_type": "code",
   "execution_count": 20,
   "metadata": {},
   "outputs": [],
   "source": [
    "train = train.dropna()\n",
    "val = val.dropna()"
   ]
  },
  {
   "cell_type": "code",
   "execution_count": null,
   "metadata": {},
   "outputs": [],
   "source": [
    "nlp = spacy.load(\"en_core_web_sm\")\n",
    "\n",
    "def tokenize_text(texts):\n",
    "    texts = list(texts)\n",
    "    return [[token.text for token in doc] for doc in nlp.tokenizer.pipe(texts, batch_size=128)]\n",
    "\n",
    "X_train_tokenized = tokenize_text(train[\"article\"])\n",
    "y_train_tokenized = tokenize_text(train[\"highlights\"])\n",
    "X_val_tokenized = tokenize_text(val[\"article\"])\n",
    "y_val_tokenized = tokenize_text(val[\"highlights\"])"
   ]
  },
  {
   "cell_type": "code",
   "execution_count": null,
   "metadata": {},
   "outputs": [],
   "source": [
    "all_tokens = [token for tokens in (X_train_tokenized + y_train_tokenized) for token in tokens]\n",
    "word_counts = Counter(all_tokens)\n",
    "\n",
    "vocab = {\n",
    "    \"<PAD>\": 0,\n",
    "    \"<UNK>\": 1,\n",
    "    \"<SOS>\": 2,\n",
    "    \"<EOS>\": 3\n",
    "}\n",
    "\n",
    "start_idx = 4\n",
    "\n",
    "for token, _ in word_counts.most_common():\n",
    "    if token not in vocab:\n",
    "        vocab[token] = start_idx\n",
    "        start_idx += 1\n",
    "\n",
    "def encode(tokens, vocab):\n",
    "    return np.array([vocab.get(token, vocab[\"<UNK>\"]) for token in tokens], dtype=np.int32)\n",
    "\n",
    "X_train_idx = [encode(tokens, vocab) for tokens in X_train_tokenized]\n",
    "Y_train_idx = [encode(tokens, vocab) for tokens in y_train_tokenized]\n",
    "X_val_idx = [encode(tokens, vocab) for tokens in X_val_tokenized]\n",
    "Y_val_idx = [encode(tokens, vocab) for tokens in y_val_tokenized]"
   ]
  },
  {
   "cell_type": "code",
   "execution_count": null,
   "metadata": {},
   "outputs": [],
   "source": [
    "MAX_LEN = 10000\n",
    "\n",
    "def pad_sequences(sequences, max_len=MAX_LEN, pad_idx=0):\n",
    "    tensor_sequences = [torch.tensor(seq[:max_len], dtype=torch.long) for seq in sequences]\n",
    "    return pad_sequence(tensor_sequences, batch_first=True, padding_value=pad_idx)\n",
    "\n",
    "X_train_padded = pad_sequences(X_train_idx, pad_idx=vocab[\"<PAD>\"])\n",
    "Y_train_padded = pad_sequences(Y_train_idx, pad_idx=vocab[\"<PAD>\"])\n",
    "X_val_padded = pad_sequences(X_val_idx, pad_idx=vocab[\"<PAD>\"])\n",
    "Y_val_padded = pad_sequences(Y_val_idx, pad_idx=vocab[\"<PAD>\"])"
   ]
  },
  {
   "cell_type": "code",
   "execution_count": 24,
   "metadata": {},
   "outputs": [
    {
     "name": "stdout",
     "output_type": "stream",
     "text": [
      "torch.Size([49764, 2947]) torch.Size([49764, 114])\n"
     ]
    }
   ],
   "source": [
    "print(X_train_padded.shape, Y_train_padded.shape) "
   ]
  },
  {
   "cell_type": "markdown",
   "metadata": {},
   "source": [
    "## LSTM model"
   ]
  },
  {
   "cell_type": "code",
   "execution_count": 25,
   "metadata": {},
   "outputs": [],
   "source": [
    "class SummarizationDataset(Dataset):\n",
    "    def __init__(self, X, Y):\n",
    "        self.X = X\n",
    "        self.Y = Y\n",
    "\n",
    "    def __len__(self):\n",
    "        return len(self.X)\n",
    "\n",
    "    def __getitem__(self, idx):\n",
    "        return self.X[idx], self.Y[idx]\n",
    "    \n",
    "train_dataset = SummarizationDataset(X_train_padded, Y_train_padded)\n",
    "val_dataset = SummarizationDataset(X_val_padded, Y_val_padded)\n",
    "\n",
    "train_loader = DataLoader(train_dataset, batch_size=32, shuffle=True)\n",
    "val_loader = DataLoader(val_dataset, batch_size=32, shuffle=False)"
   ]
  },
  {
   "cell_type": "code",
   "execution_count": 27,
   "metadata": {},
   "outputs": [],
   "source": [
    "class Encoder(nn.Module):\n",
    "    def __init__(self, input_size, embedding_size, hidden_size, num_layers):\n",
    "        super(Encoder, self).__init__()\n",
    "        self.embedding = nn.Embedding(input_size, embedding_size)\n",
    "        self.rnn = nn.LSTM(embedding_size, hidden_size, num_layers, batch_first=True)\n",
    "\n",
    "    def forward(self, x):\n",
    "        embedding = self.embedding(x)\n",
    "        _, (hidden, cell) = self.rnn(embedding)\n",
    "        return hidden, cell\n",
    "    \n",
    "class Decoder(nn.Module):\n",
    "    def __init__(self, output_size, embedding_size, hidden_size, num_layers):\n",
    "        super(Decoder, self).__init__()\n",
    "        self.output_size = output_size\n",
    "        \n",
    "        self.embedding = nn.Embedding(output_size, embedding_size)\n",
    "        self.rnn = nn.LSTM(embedding_size, hidden_size, num_layers, batch_first=True)\n",
    "        self.fc = nn.Linear(hidden_size, output_size)\n",
    "\n",
    "    def forward(self, x, hidden, cell):\n",
    "        x = x.unsqueeze(1)\n",
    "        embedding = self.embedding(x)\n",
    "        output, (hidden, cell) = self.rnn(embedding, (hidden, cell))\n",
    "        predictions = self.fc(output.squeeze(1))\n",
    "        return predictions, hidden, cell\n",
    "    \n",
    "\n",
    "class Seq2Seq(nn.Module):\n",
    "    def __init__(self, encoder, decoder, device):\n",
    "        super(Seq2Seq, self).__init__()\n",
    "        self.encoder = encoder\n",
    "        self.decoder = decoder\n",
    "        self.device = device\n",
    "\n",
    "    def forward(self, src, trg, teacher_forcing_ratio=0.5):\n",
    "        batch_size = trg.shape[0]\n",
    "        trg_len = trg.shape[1]\n",
    "        trg_vocab_size = self.decoder.output_size\n",
    "\n",
    "        outputs = torch.zeros(batch_size, trg_len, trg_vocab_size).to(self.device)\n",
    "        hidden, cell = self.encoder(src)\n",
    "        input = trg[:, 0]\n",
    "\n",
    "        for t in range(1, trg_len):\n",
    "            output, hidden, cell = self.decoder(input, hidden, cell)\n",
    "            outputs[:, t, :] = output\n",
    "            teacher_force = torch.rand(1).item() < teacher_forcing_ratio\n",
    "            input = trg[:, t] if teacher_force else output.argmax(1)\n",
    "\n",
    "        return outputs"
   ]
  },
  {
   "cell_type": "code",
   "execution_count": 28,
   "metadata": {},
   "outputs": [
    {
     "name": "stdout",
     "output_type": "stream",
     "text": [
      "cuda\n"
     ]
    }
   ],
   "source": [
    "device = torch.device(\"cuda\" if torch.cuda.is_available() else \"cpu\")\n",
    "print(device)"
   ]
  },
  {
   "cell_type": "code",
   "execution_count": null,
   "metadata": {},
   "outputs": [],
   "source": [
    "num_epochs = 3\n",
    "num_batches = len(train_loader)\n",
    "total_batches = num_epochs * num_batches"
   ]
  },
  {
   "cell_type": "code",
   "execution_count": 44,
   "metadata": {},
   "outputs": [
    {
     "name": "stdout",
     "output_type": "stream",
     "text": [
      "Batch 1/1 - Time per batch: 12.03s - Estimated Total: 938.00 min\n"
     ]
    }
   ],
   "source": [
    "encoder = Encoder(len(vocab), 256, 256, 1)\n",
    "decoder = Decoder(len(vocab), 256, 256, 1)\n",
    "model = Seq2Seq(encoder, decoder, device).to(device)\n",
    "\n",
    "optimizer = optim.Adam(model.parameters(), lr=1e-03)\n",
    "criterion = nn.CrossEntropyLoss(ignore_index=vocab[\"<PAD>\"])\n",
    "\n",
    "model.train()\n",
    "torch.cuda.empty_cache()\n",
    "\n",
    "start_time = time.time()\n",
    "\n",
    "X_batch, y_batch = next(iter(train_loader))\n",
    "batch_start_time = time.time()\n",
    "\n",
    "X_batch, y_batch = X_batch.to(device), y_batch.to(device)\n",
    "optimizer.zero_grad()\n",
    "output = model(X_batch, y_batch)\n",
    "output = output[:, 1:].reshape(-1, output.shape[2])\n",
    "y_batch = y_batch[:, 1:].reshape(-1)\n",
    "\n",
    "loss = criterion(output, y_batch)\n",
    "loss.backward()\n",
    "optimizer.step()\n",
    "\n",
    "batch_time = time.time() - batch_start_time\n",
    "elapsed_time = time.time() - start_time\n",
    "estimated_total_time = (elapsed_time * total_batches)\n",
    "print(f\"Batch 1/1 - Time per batch: {batch_time:.2f}s - Estimated Total: {estimated_total_time // 60:.2f} min\")"
   ]
  },
  {
   "cell_type": "markdown",
   "metadata": {},
   "source": [
    "## LSTM with an Attention Mechanism (for practice)"
   ]
  },
  {
   "cell_type": "markdown",
   "metadata": {},
   "source": [
    "## Transformer model"
   ]
  },
  {
   "cell_type": "code",
   "execution_count": 3,
   "metadata": {},
   "outputs": [],
   "source": [
    "dataset = datasets.load_dataset(\"cnn_dailymail\", \"3.0.0\")"
   ]
  },
  {
   "cell_type": "code",
   "execution_count": 4,
   "metadata": {},
   "outputs": [],
   "source": [
    "train_data = dataset[\"train\"].select(range(50000))\n",
    "val_data = dataset[\"validation\"]"
   ]
  },
  {
   "cell_type": "code",
   "execution_count": 8,
   "metadata": {},
   "outputs": [
    {
     "data": {
      "application/vnd.jupyter.widget-view+json": {
       "model_id": "2270be46561744b1b6fee9147fca6439",
       "version_major": 2,
       "version_minor": 0
      },
      "text/plain": [
       "Map:   0%|          | 0/49764 [00:00<?, ? examples/s]"
      ]
     },
     "metadata": {},
     "output_type": "display_data"
    },
    {
     "data": {
      "application/vnd.jupyter.widget-view+json": {
       "model_id": "165f5504286545bbb465c80a0ab92414",
       "version_major": 2,
       "version_minor": 0
      },
      "text/plain": [
       "Map:   0%|          | 0/13351 [00:00<?, ? examples/s]"
      ]
     },
     "metadata": {},
     "output_type": "display_data"
    }
   ],
   "source": [
    "def delete_wrong_scraped(example):\n",
    "    wrong_scraped = [\n",
    "        \"This page includes the show Transcript\", \n",
    "        \"The daily transcript is a written version\", \n",
    "        \"Use the weekly Newsquiz to test your\", \n",
    "        \"Use these questions to help students understan\"\n",
    "    ]\n",
    "    \n",
    "    for elem in wrong_scraped:\n",
    "        if isinstance(example[\"highlights\"], str) and elem.lower() in example[\"highlights\"].lower():\n",
    "            return None\n",
    "    return example\n",
    "\n",
    "def clean_text(example):\n",
    "    example[\"article\"] = delete_metadata(example[\"article\"])\n",
    "    example[\"highlights\"] = delete_metadata(example[\"highlights\"])\n",
    "    return delete_wrong_scraped(example)\n",
    "\n",
    "\n",
    "train_data = train_data.map(clean_text, batched=False)\n",
    "val_data = val_data.map(clean_text, batched=False)"
   ]
  },
  {
   "cell_type": "code",
   "execution_count": 9,
   "metadata": {},
   "outputs": [
    {
     "data": {
      "application/vnd.jupyter.widget-view+json": {
       "model_id": "b94a39215469497e9d147bfb7caf4a1a",
       "version_major": 2,
       "version_minor": 0
      },
      "text/plain": [
       "Map:   0%|          | 0/49764 [00:00<?, ? examples/s]"
      ]
     },
     "metadata": {},
     "output_type": "display_data"
    },
    {
     "data": {
      "application/vnd.jupyter.widget-view+json": {
       "model_id": "c6a3d211734747c480138813d0621518",
       "version_major": 2,
       "version_minor": 0
      },
      "text/plain": [
       "Map:   0%|          | 0/13351 [00:00<?, ? examples/s]"
      ]
     },
     "metadata": {},
     "output_type": "display_data"
    }
   ],
   "source": [
    "model_name = \"t5-small\"\n",
    "tokenizer = AutoTokenizer.from_pretrained(model_name)\n",
    "model = AutoModelForSeq2SeqLM.from_pretrained(model_name)\n",
    "\n",
    "def tokenize_data(batch):\n",
    "    inputs = tokenizer(batch[\"article\"], padding=\"max_length\", truncation=True, max_length=512)\n",
    "    targets = tokenizer(batch[\"highlights\"], padding=\"max_length\", truncation=True, max_length=128)\n",
    "    \n",
    "    inputs[\"labels\"] = targets[\"input_ids\"]\n",
    "    return inputs\n",
    "\n",
    "train_data = train_data.map(tokenize_data, batched=True)\n",
    "val_data = val_data.map(tokenize_data, batched=True)\n",
    "\n",
    "train_data.set_format(type=\"torch\", columns=[\"input_ids\", \"attention_mask\", \"labels\"])\n",
    "val_data.set_format(type=\"torch\", columns=[\"input_ids\", \"attention_mask\", \"labels\"])"
   ]
  },
  {
   "cell_type": "code",
   "execution_count": null,
   "metadata": {},
   "outputs": [],
   "source": [
    "from transformers import TrainingArguments, Trainer\n",
    "\n",
    "batch_size = 8\n",
    "\n",
    "training_args = TrainingArguments(\n",
    "    output_dir=\"./results\",\n",
    "    eval_strategy=\"epoch\",\n",
    "    save_strategy=\"epoch\",\n",
    "    learning_rate=2e-5,\n",
    "    per_device_train_batch_size=batch_size,\n",
    "    per_device_eval_batch_size=batch_size,\n",
    "    num_train_epochs=3,\n",
    "    weight_decay=0.01,\n",
    "    logging_dir=\"./logs\",\n",
    ")\n",
    "\n",
    "trainer = Trainer(\n",
    "    model=model,\n",
    "    args=training_args,\n",
    "    train_dataset=train_data,\n",
    "    eval_dataset=val_data,\n",
    ")"
   ]
  },
  {
   "cell_type": "code",
   "execution_count": 11,
   "metadata": {},
   "outputs": [
    {
     "name": "stdout",
     "output_type": "stream",
     "text": [
      "Total Parameters: 60,506,624\n",
      "Trainable Parameters: 60,506,624\n"
     ]
    }
   ],
   "source": [
    "total_params = sum(p.numel() for p in model.parameters())\n",
    "trainable_params = sum(p.numel() for p in model.parameters() if p.requires_grad)\n",
    "\n",
    "print(f\"Total Parameters: {total_params:,}\")\n",
    "print(f\"Trainable Parameters: {trainable_params:,}\")"
   ]
  },
  {
   "cell_type": "code",
   "execution_count": 12,
   "metadata": {},
   "outputs": [
    {
     "name": "stderr",
     "output_type": "stream",
     "text": [
      "Passing a tuple of `past_key_values` is deprecated and will be removed in Transformers v4.48.0. You should pass an instance of `EncoderDecoderCache` instead, e.g. `past_key_values=EncoderDecoderCache.from_legacy_cache(past_key_values)`.\n"
     ]
    },
    {
     "data": {
      "text/html": [
       "\n",
       "    <div>\n",
       "      \n",
       "      <progress value='18663' max='18663' style='width:300px; height:20px; vertical-align: middle;'></progress>\n",
       "      [18663/18663 24:17, Epoch 3/3]\n",
       "    </div>\n",
       "    <table border=\"1\" class=\"dataframe\">\n",
       "  <thead>\n",
       " <tr style=\"text-align: left;\">\n",
       "      <th>Epoch</th>\n",
       "      <th>Training Loss</th>\n",
       "      <th>Validation Loss</th>\n",
       "    </tr>\n",
       "  </thead>\n",
       "  <tbody>\n",
       "    <tr>\n",
       "      <td>1</td>\n",
       "      <td>1.280800</td>\n",
       "      <td>1.332767</td>\n",
       "    </tr>\n",
       "    <tr>\n",
       "      <td>2</td>\n",
       "      <td>1.264800</td>\n",
       "      <td>1.324153</td>\n",
       "    </tr>\n",
       "    <tr>\n",
       "      <td>3</td>\n",
       "      <td>1.225500</td>\n",
       "      <td>1.319207</td>\n",
       "    </tr>\n",
       "  </tbody>\n",
       "</table><p>"
      ],
      "text/plain": [
       "<IPython.core.display.HTML object>"
      ]
     },
     "metadata": {},
     "output_type": "display_data"
    },
    {
     "data": {
      "text/plain": [
       "TrainOutput(global_step=18663, training_loss=1.2734535829255558, metrics={'train_runtime': 1458.4706, 'train_samples_per_second': 102.362, 'train_steps_per_second': 12.796, 'total_flos': 2.0205448225357824e+16, 'train_loss': 1.2734535829255558, 'epoch': 3.0})"
      ]
     },
     "execution_count": 12,
     "metadata": {},
     "output_type": "execute_result"
    }
   ],
   "source": [
    "trainer.train()"
   ]
  },
  {
   "cell_type": "code",
   "execution_count": 26,
   "metadata": {},
   "outputs": [
    {
     "data": {
      "text/plain": [
       "T5ForConditionalGeneration(\n",
       "  (shared): Embedding(32128, 512)\n",
       "  (encoder): T5Stack(\n",
       "    (embed_tokens): Embedding(32128, 512)\n",
       "    (block): ModuleList(\n",
       "      (0): T5Block(\n",
       "        (layer): ModuleList(\n",
       "          (0): T5LayerSelfAttention(\n",
       "            (SelfAttention): T5Attention(\n",
       "              (q): Linear(in_features=512, out_features=512, bias=False)\n",
       "              (k): Linear(in_features=512, out_features=512, bias=False)\n",
       "              (v): Linear(in_features=512, out_features=512, bias=False)\n",
       "              (o): Linear(in_features=512, out_features=512, bias=False)\n",
       "              (relative_attention_bias): Embedding(32, 8)\n",
       "            )\n",
       "            (layer_norm): T5LayerNorm()\n",
       "            (dropout): Dropout(p=0.1, inplace=False)\n",
       "          )\n",
       "          (1): T5LayerFF(\n",
       "            (DenseReluDense): T5DenseActDense(\n",
       "              (wi): Linear(in_features=512, out_features=2048, bias=False)\n",
       "              (wo): Linear(in_features=2048, out_features=512, bias=False)\n",
       "              (dropout): Dropout(p=0.1, inplace=False)\n",
       "              (act): ReLU()\n",
       "            )\n",
       "            (layer_norm): T5LayerNorm()\n",
       "            (dropout): Dropout(p=0.1, inplace=False)\n",
       "          )\n",
       "        )\n",
       "      )\n",
       "      (1-5): 5 x T5Block(\n",
       "        (layer): ModuleList(\n",
       "          (0): T5LayerSelfAttention(\n",
       "            (SelfAttention): T5Attention(\n",
       "              (q): Linear(in_features=512, out_features=512, bias=False)\n",
       "              (k): Linear(in_features=512, out_features=512, bias=False)\n",
       "              (v): Linear(in_features=512, out_features=512, bias=False)\n",
       "              (o): Linear(in_features=512, out_features=512, bias=False)\n",
       "            )\n",
       "            (layer_norm): T5LayerNorm()\n",
       "            (dropout): Dropout(p=0.1, inplace=False)\n",
       "          )\n",
       "          (1): T5LayerFF(\n",
       "            (DenseReluDense): T5DenseActDense(\n",
       "              (wi): Linear(in_features=512, out_features=2048, bias=False)\n",
       "              (wo): Linear(in_features=2048, out_features=512, bias=False)\n",
       "              (dropout): Dropout(p=0.1, inplace=False)\n",
       "              (act): ReLU()\n",
       "            )\n",
       "            (layer_norm): T5LayerNorm()\n",
       "            (dropout): Dropout(p=0.1, inplace=False)\n",
       "          )\n",
       "        )\n",
       "      )\n",
       "    )\n",
       "    (final_layer_norm): T5LayerNorm()\n",
       "    (dropout): Dropout(p=0.1, inplace=False)\n",
       "  )\n",
       "  (decoder): T5Stack(\n",
       "    (embed_tokens): Embedding(32128, 512)\n",
       "    (block): ModuleList(\n",
       "      (0): T5Block(\n",
       "        (layer): ModuleList(\n",
       "          (0): T5LayerSelfAttention(\n",
       "            (SelfAttention): T5Attention(\n",
       "              (q): Linear(in_features=512, out_features=512, bias=False)\n",
       "              (k): Linear(in_features=512, out_features=512, bias=False)\n",
       "              (v): Linear(in_features=512, out_features=512, bias=False)\n",
       "              (o): Linear(in_features=512, out_features=512, bias=False)\n",
       "              (relative_attention_bias): Embedding(32, 8)\n",
       "            )\n",
       "            (layer_norm): T5LayerNorm()\n",
       "            (dropout): Dropout(p=0.1, inplace=False)\n",
       "          )\n",
       "          (1): T5LayerCrossAttention(\n",
       "            (EncDecAttention): T5Attention(\n",
       "              (q): Linear(in_features=512, out_features=512, bias=False)\n",
       "              (k): Linear(in_features=512, out_features=512, bias=False)\n",
       "              (v): Linear(in_features=512, out_features=512, bias=False)\n",
       "              (o): Linear(in_features=512, out_features=512, bias=False)\n",
       "            )\n",
       "            (layer_norm): T5LayerNorm()\n",
       "            (dropout): Dropout(p=0.1, inplace=False)\n",
       "          )\n",
       "          (2): T5LayerFF(\n",
       "            (DenseReluDense): T5DenseActDense(\n",
       "              (wi): Linear(in_features=512, out_features=2048, bias=False)\n",
       "              (wo): Linear(in_features=2048, out_features=512, bias=False)\n",
       "              (dropout): Dropout(p=0.1, inplace=False)\n",
       "              (act): ReLU()\n",
       "            )\n",
       "            (layer_norm): T5LayerNorm()\n",
       "            (dropout): Dropout(p=0.1, inplace=False)\n",
       "          )\n",
       "        )\n",
       "      )\n",
       "      (1-5): 5 x T5Block(\n",
       "        (layer): ModuleList(\n",
       "          (0): T5LayerSelfAttention(\n",
       "            (SelfAttention): T5Attention(\n",
       "              (q): Linear(in_features=512, out_features=512, bias=False)\n",
       "              (k): Linear(in_features=512, out_features=512, bias=False)\n",
       "              (v): Linear(in_features=512, out_features=512, bias=False)\n",
       "              (o): Linear(in_features=512, out_features=512, bias=False)\n",
       "            )\n",
       "            (layer_norm): T5LayerNorm()\n",
       "            (dropout): Dropout(p=0.1, inplace=False)\n",
       "          )\n",
       "          (1): T5LayerCrossAttention(\n",
       "            (EncDecAttention): T5Attention(\n",
       "              (q): Linear(in_features=512, out_features=512, bias=False)\n",
       "              (k): Linear(in_features=512, out_features=512, bias=False)\n",
       "              (v): Linear(in_features=512, out_features=512, bias=False)\n",
       "              (o): Linear(in_features=512, out_features=512, bias=False)\n",
       "            )\n",
       "            (layer_norm): T5LayerNorm()\n",
       "            (dropout): Dropout(p=0.1, inplace=False)\n",
       "          )\n",
       "          (2): T5LayerFF(\n",
       "            (DenseReluDense): T5DenseActDense(\n",
       "              (wi): Linear(in_features=512, out_features=2048, bias=False)\n",
       "              (wo): Linear(in_features=2048, out_features=512, bias=False)\n",
       "              (dropout): Dropout(p=0.1, inplace=False)\n",
       "              (act): ReLU()\n",
       "            )\n",
       "            (layer_norm): T5LayerNorm()\n",
       "            (dropout): Dropout(p=0.1, inplace=False)\n",
       "          )\n",
       "        )\n",
       "      )\n",
       "    )\n",
       "    (final_layer_norm): T5LayerNorm()\n",
       "    (dropout): Dropout(p=0.1, inplace=False)\n",
       "  )\n",
       "  (lm_head): Linear(in_features=512, out_features=32128, bias=False)\n",
       ")"
      ]
     },
     "execution_count": 26,
     "metadata": {},
     "output_type": "execute_result"
    }
   ],
   "source": [
    "model = AutoModelForSeq2SeqLM.from_pretrained(\"results/checkpoint-18750\")\n",
    "model.to(\"cuda\")"
   ]
  },
  {
   "cell_type": "code",
   "execution_count": 13,
   "metadata": {},
   "outputs": [],
   "source": [
    "def summarize(text, max_input_length=512, max_output_length=128, device=\"cuda\"):\n",
    "    model.to(device)\n",
    "\n",
    "    inputs = tokenizer(text, return_tensors=\"pt\", max_length=max_input_length, truncation=True)\n",
    "\n",
    "    inputs = {key: value.to(device) for key, value in inputs.items()}\n",
    "\n",
    "    with torch.no_grad():\n",
    "        summary_ids = model.generate(\n",
    "            **inputs, \n",
    "            max_length=max_output_length, \n",
    "            num_beams=5, \n",
    "            early_stopping=True\n",
    "        )\n",
    "\n",
    "    summary = tokenizer.decode(summary_ids[0], skip_special_tokens=True)\n",
    "    return summary"
   ]
  },
  {
   "cell_type": "code",
   "execution_count": 14,
   "metadata": {},
   "outputs": [
    {
     "name": "stdout",
     "output_type": "stream",
     "text": [
      "Original Article:\n",
      " (CNN)It was an act of frustration perhaps more commonly associated with golf's fictional anti-hero Happy Gilmore than the world's reigning No 1. player. But when Rory McIlroy pulled his second shot on the eighth hole of the WGC Cadillac Championship into a lake Friday, he might as well have been channeling the much loved Adam Sandler character. Before continuing his round with a dropped ball, the four-time major winner launched the 3-iron used to play the offending shot into the water as well. \"(It) felt good at the time,\" a rueful McIlroy later said of the incident in comments carried by the PGA Tour website. \"I just let frustration get the better of me. It was heat of the moment, and I mean, if it had of been any other club I probably wouldn't have but I didn't need a 3‑iron for the rest of the round so I thought, why not.\" The club \"must have went a good 60, 70 yards,\" he joked. McIlroy composed himself to finish with a second round of 70, leaving him one-under for the tournament and eight shots off the pace set by leader JB Holmes. While an improvement on last weeks performance at the Honda Classic event, where he failed to make the cut, the Northern Irishman's frustration with elements of his game was still clear. \"I think every golfer feels it because I don't hit shots like the one I hit on 8 on the range,\" he said. \"That's what really bothers me, the fact that I get out on the course and I hit shots that I'm not seeing when I'm in a more relaxed environment. \"So it's a little bit of mental, a little bit of physical. It's just everything is not quite matching up.\" Elsewhere on the course, Ryan Holmes scored a two-under-par 71 to remain in second position overall, two shots behind Holmes. Former world No 1., Adam Scott carded an impressive 68 to finish the day three shots off the pace at six-under while Bubba Watson and Henrik Stenson are tied for fourth on four-under.\n",
      "\n",
      "Generated Summary:\n",
      " Rory McIlroy pulls his second shot on the eighth hole of the WGC Cadillac Championship. The four-time major winner launches the 3-iron used to play the offending shot into the water. McIlroy finished with a second round of 70, leaving him one-under for the tournament. Ryan Holmes scores a two-under-par 71 to remain in second position overall.\n"
     ]
    }
   ],
   "source": [
    "sample_text = val_data[\"article\"][3]\n",
    "summary = summarize(sample_text)\n",
    "print(\"Original Article:\\n\", sample_text)\n",
    "print(\"\\nGenerated Summary:\\n\", summary)\n"
   ]
  },
  {
   "cell_type": "code",
   "execution_count": 15,
   "metadata": {},
   "outputs": [
    {
     "name": "stdout",
     "output_type": "stream",
     "text": [
      "{'bleu': 0.030677867325323214, 'rouge': {'rouge1': 0.17233953021510848, 'rouge2': 0.027947218729782848, 'rougeL': 0.140742478947466, 'rougeLsum': 0.14172978245897916}}\n"
     ]
    }
   ],
   "source": [
    "bleu_metric = evaluate.load(\"bleu\")\n",
    "rouge_metric = evaluate.load(\"rouge\")\n",
    "\n",
    "def compute_metrics(predictions, references):\n",
    "    predictions = [pred.strip() for pred in predictions]\n",
    "    references = [[ref.strip()] for ref in references]\n",
    "\n",
    "    bleu_score = bleu_metric.compute(predictions=predictions, references=references)\n",
    "    rouge_score = rouge_metric.compute(predictions=predictions, references=references)\n",
    "\n",
    "    return {\"bleu\": bleu_score[\"bleu\"], \"rouge\": rouge_score}\n",
    "\n",
    "predictions = [summarize(article) for article in val_data[\"article\"][:10]]\n",
    "references = [ref for ref in val_data[\"highlights\"][:10]]\n",
    "\n",
    "\n",
    "metrics = compute_metrics(predictions, references)\n",
    "print(metrics)"
   ]
  },
  {
   "cell_type": "code",
   "execution_count": 16,
   "metadata": {},
   "outputs": [],
   "source": [
    "samplex_text = \"\"\"\n",
    "\n",
    "A unique report on a secret Soviet-era military facility reveals the details of an underground command post hidden in the forests near Ivano-Frankivsk, which could once have become the epicenter of a global confrontation.\n",
    "\n",
    "Halka writes about this with reference to video blogger Mark Bobalik in his study of abandoned military facilities in the Carpathian region.\n",
    "\n",
    "The hidden heart of the Cold War, a huge underground complex that could once accommodate 450 top military officials and withstand a powerful nuclear strike, has now turned into a terrifying monument to Soviet military power. Located in the picturesque Black Forest near Ivano-Frankivsk, this top-secret facility was a real fortress, capable of operating autonomously for three weeks.\n",
    "\n",
    "The command post was a true engineering masterpiece of the Soviet era. Suspended on 36 steel cables, with a unique nitrogen shock absorption system, it was designed to withstand even the most powerful impacts. Special cylinders maintained internal pressure, preventing the ingress of toxic substances, and the furniture was securely fixed on a special raised floor with foam filler.\n",
    "\n",
    "The uniqueness of the facility lay in its communication capabilities. From here, the troops of 15 Warsaw Pact countries were controlled, 600 telephone and one and a half thousand telegraph channels operated. The system was duplicated by radio communication, relay, tropospheric and space communication channels.\n",
    "\n",
    "Interestingly, in 2005, the local authorities planned to transform the unique complex into a tourist and recreational facility and a center for medical prevention. However, these plans remained unrealized. Currently, the premises are under the management of the State Emergency Service and are used as ordinary warehouses.\n",
    "\n",
    "Mark Bobalik recorded the condition of the facility during his research: flooded tunnels, damaged metal structures, complete lack of security. Once the pride of Soviet military power, it has turned into a terrible monument of the past, a silent witness to the Cold War era.\n",
    "\n",
    "Today, only fragments remain of its former greatness: damaged entrances, cut-off antennas and flooded premises. The only thing that has remained unchanged is the picturesque forest lands around, where the largest population of red deer in the Carpathian region still lives.\n",
    "\n",
    "This facility is not just an abandoned place, but a real museum of Soviet-era technical thought, waiting for its rebirth and rethinking.\n",
    "\"\"\""
   ]
  },
  {
   "cell_type": "code",
   "execution_count": 17,
   "metadata": {},
   "outputs": [
    {
     "data": {
      "text/plain": [
       "'A secret Soviet-era military facility is hidden in the forests near Ivano-Frankivsk. It was a real fortress capable of operating autonomously for three weeks. The complex was a true engineering masterpiece of the Soviet era.'"
      ]
     },
     "execution_count": 17,
     "metadata": {},
     "output_type": "execute_result"
    }
   ],
   "source": [
    "summarize(samplex_text)"
   ]
  },
  {
   "cell_type": "code",
   "execution_count": 19,
   "metadata": {},
   "outputs": [
    {
     "data": {
      "text/plain": [
       "{'bleu': 0.05060454076656146,\n",
       " 'rouge': {'rouge1': 0.19753086419753085,\n",
       "  'rouge2': 0.10126582278481013,\n",
       "  'rougeL': 0.19753086419753085,\n",
       "  'rougeLsum': 0.19753086419753085}}"
      ]
     },
     "execution_count": 19,
     "metadata": {},
     "output_type": "execute_result"
    }
   ],
   "source": [
    "compute_metrics([summarize(val_data[\"article\"][3])], [(val_data[\"highlights\"][3])])"
   ]
  },
  {
   "cell_type": "code",
   "execution_count": 20,
   "metadata": {},
   "outputs": [
    {
     "data": {
      "text/plain": [
       "'Rory McIlroy pulls his second shot on the eighth hole of the WGC Cadillac Championship. The four-time major winner launches the 3-iron used to play the offending shot into the water. McIlroy finished with a second round of 70, leaving him one-under for the tournament. Ryan Holmes scores a two-under-par 71 to remain in second position overall.'"
      ]
     },
     "execution_count": 20,
     "metadata": {},
     "output_type": "execute_result"
    }
   ],
   "source": [
    "summarize(val_data[\"article\"][3])"
   ]
  },
  {
   "cell_type": "code",
   "execution_count": 21,
   "metadata": {},
   "outputs": [
    {
     "data": {
      "text/plain": [
       "'Rory McIlroy throws club into water at WGC Cadillac Championship . Northern Irishman frustrated after pulling shot into water hazard .'"
      ]
     },
     "execution_count": 21,
     "metadata": {},
     "output_type": "execute_result"
    }
   ],
   "source": [
    "val_data[\"highlights\"][3]"
   ]
  }
 ],
 "metadata": {
  "kernelspec": {
   "display_name": "ml_env",
   "language": "python",
   "name": "python3"
  },
  "language_info": {
   "codemirror_mode": {
    "name": "ipython",
    "version": 3
   },
   "file_extension": ".py",
   "mimetype": "text/x-python",
   "name": "python",
   "nbconvert_exporter": "python",
   "pygments_lexer": "ipython3",
   "version": "3.10.16"
  }
 },
 "nbformat": 4,
 "nbformat_minor": 2
}
